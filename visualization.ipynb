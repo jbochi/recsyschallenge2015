{
 "metadata": {
  "name": "",
  "signature": "sha256:0f0cd0f735bc73a80c6b5d67837ef9e836c08a452b8f4320d49379be582e8e97"
 },
 "nbformat": 3,
 "nbformat_minor": 0,
 "worksheets": [
  {
   "cells": [
    {
     "cell_type": "heading",
     "level": 1,
     "metadata": {},
     "source": [
      "Rec Sys 2015 Challenge's Data Exploration"
     ]
    },
    {
     "cell_type": "heading",
     "level": 2,
     "metadata": {},
     "source": [
      "Reading the data"
     ]
    },
    {
     "cell_type": "code",
     "collapsed": false,
     "input": [
      "import pandas as pd\n",
      "import numpy as np"
     ],
     "language": "python",
     "metadata": {},
     "outputs": [],
     "prompt_number": 1
    },
    {
     "cell_type": "code",
     "collapsed": false,
     "input": [
      "buys = pd.read_csv(\"data/yoochoose-buys.dat\", \n",
      "                   names=[\"session\", \"timestamp\", \"item\", \"price\", \"qty\"], \n",
      "                   parse_dates=[\"timestamp\"])"
     ],
     "language": "python",
     "metadata": {},
     "outputs": [],
     "prompt_number": 2
    },
    {
     "cell_type": "code",
     "collapsed": false,
     "input": [
      "buys[:5]"
     ],
     "language": "python",
     "metadata": {},
     "outputs": [
      {
       "html": [
        "<div style=\"max-height:1000px;max-width:1500px;overflow:auto;\">\n",
        "<table border=\"1\" class=\"dataframe\">\n",
        "  <thead>\n",
        "    <tr style=\"text-align: right;\">\n",
        "      <th></th>\n",
        "      <th>session</th>\n",
        "      <th>timestamp</th>\n",
        "      <th>item</th>\n",
        "      <th>price</th>\n",
        "      <th>qty</th>\n",
        "    </tr>\n",
        "  </thead>\n",
        "  <tbody>\n",
        "    <tr>\n",
        "      <th>0</th>\n",
        "      <td> 420374</td>\n",
        "      <td>2014-04-06 18:44:58.314000</td>\n",
        "      <td> 214537888</td>\n",
        "      <td> 12462</td>\n",
        "      <td> 1</td>\n",
        "    </tr>\n",
        "    <tr>\n",
        "      <th>1</th>\n",
        "      <td> 420374</td>\n",
        "      <td>2014-04-06 18:44:58.325000</td>\n",
        "      <td> 214537850</td>\n",
        "      <td> 10471</td>\n",
        "      <td> 1</td>\n",
        "    </tr>\n",
        "    <tr>\n",
        "      <th>2</th>\n",
        "      <td> 281626</td>\n",
        "      <td>2014-04-06 09:40:13.032000</td>\n",
        "      <td> 214535653</td>\n",
        "      <td>  1883</td>\n",
        "      <td> 1</td>\n",
        "    </tr>\n",
        "    <tr>\n",
        "      <th>3</th>\n",
        "      <td> 420368</td>\n",
        "      <td>2014-04-04 06:13:28.848000</td>\n",
        "      <td> 214530572</td>\n",
        "      <td>  6073</td>\n",
        "      <td> 1</td>\n",
        "    </tr>\n",
        "    <tr>\n",
        "      <th>4</th>\n",
        "      <td> 420368</td>\n",
        "      <td>2014-04-04 06:13:28.858000</td>\n",
        "      <td> 214835025</td>\n",
        "      <td>  2617</td>\n",
        "      <td> 1</td>\n",
        "    </tr>\n",
        "  </tbody>\n",
        "</table>\n",
        "</div>"
       ],
       "metadata": {},
       "output_type": "pyout",
       "prompt_number": 3,
       "text": [
        "   session                  timestamp       item  price  qty\n",
        "0   420374 2014-04-06 18:44:58.314000  214537888  12462    1\n",
        "1   420374 2014-04-06 18:44:58.325000  214537850  10471    1\n",
        "2   281626 2014-04-06 09:40:13.032000  214535653   1883    1\n",
        "3   420368 2014-04-04 06:13:28.848000  214530572   6073    1\n",
        "4   420368 2014-04-04 06:13:28.858000  214835025   2617    1"
       ]
      }
     ],
     "prompt_number": 3
    },
    {
     "cell_type": "code",
     "collapsed": false,
     "input": [
      "def read_clicks(filename):\n",
      "    return pd.read_csv(filename, \n",
      "                     names=[\"session\", \"timestamp\", \"item\", \"category\"], \n",
      "                     parse_dates=[\"timestamp\"],\n",
      "                     converters={\"category\": lambda c: -1 if c == \"S\" else c})\n",
      "clicks = read_clicks(\"data/yoochoose-clicks.dat\")\n",
      "test = read_clicks(\"data/yoochoose-test.dat\")"
     ],
     "language": "python",
     "metadata": {},
     "outputs": [],
     "prompt_number": 4
    },
    {
     "cell_type": "code",
     "collapsed": false,
     "input": [
      "clicks[:5]"
     ],
     "language": "python",
     "metadata": {},
     "outputs": [
      {
       "html": [
        "<div style=\"max-height:1000px;max-width:1500px;overflow:auto;\">\n",
        "<table border=\"1\" class=\"dataframe\">\n",
        "  <thead>\n",
        "    <tr style=\"text-align: right;\">\n",
        "      <th></th>\n",
        "      <th>session</th>\n",
        "      <th>timestamp</th>\n",
        "      <th>item</th>\n",
        "      <th>category</th>\n",
        "    </tr>\n",
        "  </thead>\n",
        "  <tbody>\n",
        "    <tr>\n",
        "      <th>0</th>\n",
        "      <td> 1</td>\n",
        "      <td>2014-04-07 10:51:09.277000</td>\n",
        "      <td> 214536502</td>\n",
        "      <td> 0</td>\n",
        "    </tr>\n",
        "    <tr>\n",
        "      <th>1</th>\n",
        "      <td> 1</td>\n",
        "      <td>2014-04-07 10:54:09.868000</td>\n",
        "      <td> 214536500</td>\n",
        "      <td> 0</td>\n",
        "    </tr>\n",
        "    <tr>\n",
        "      <th>2</th>\n",
        "      <td> 1</td>\n",
        "      <td>2014-04-07 10:54:46.998000</td>\n",
        "      <td> 214536506</td>\n",
        "      <td> 0</td>\n",
        "    </tr>\n",
        "    <tr>\n",
        "      <th>3</th>\n",
        "      <td> 1</td>\n",
        "      <td>2014-04-07 10:57:00.306000</td>\n",
        "      <td> 214577561</td>\n",
        "      <td> 0</td>\n",
        "    </tr>\n",
        "    <tr>\n",
        "      <th>4</th>\n",
        "      <td> 2</td>\n",
        "      <td>2014-04-07 13:56:37.614000</td>\n",
        "      <td> 214662742</td>\n",
        "      <td> 0</td>\n",
        "    </tr>\n",
        "  </tbody>\n",
        "</table>\n",
        "</div>"
       ],
       "metadata": {},
       "output_type": "pyout",
       "prompt_number": 5,
       "text": [
        "   session                  timestamp       item category\n",
        "0        1 2014-04-07 10:51:09.277000  214536502        0\n",
        "1        1 2014-04-07 10:54:09.868000  214536500        0\n",
        "2        1 2014-04-07 10:54:46.998000  214536506        0\n",
        "3        1 2014-04-07 10:57:00.306000  214577561        0\n",
        "4        2 2014-04-07 13:56:37.614000  214662742        0"
       ]
      }
     ],
     "prompt_number": 5
    },
    {
     "cell_type": "heading",
     "level": 2,
     "metadata": {},
     "source": [
      "Data analysis"
     ]
    },
    {
     "cell_type": "heading",
     "level": 3,
     "metadata": {},
     "source": [
      "Confirm that all datasets are from same time range (2014-04-01 to 2014-09-30)"
     ]
    },
    {
     "cell_type": "code",
     "collapsed": false,
     "input": [
      "clicks[\"timestamp\"].min(), clicks[\"timestamp\"].max()"
     ],
     "language": "python",
     "metadata": {},
     "outputs": [
      {
       "metadata": {},
       "output_type": "pyout",
       "prompt_number": 6,
       "text": [
        "(Timestamp('2014-04-01 03:00:00.124000'),\n",
        " Timestamp('2014-09-30 02:59:59.430000'))"
       ]
      }
     ],
     "prompt_number": 6
    },
    {
     "cell_type": "code",
     "collapsed": false,
     "input": [
      "buys[\"timestamp\"].min(), buys[\"timestamp\"].max()"
     ],
     "language": "python",
     "metadata": {},
     "outputs": [
      {
       "metadata": {},
       "output_type": "pyout",
       "prompt_number": 7,
       "text": [
        "(Timestamp('2014-04-01 03:05:31.743000'),\n",
        " Timestamp('2014-09-30 02:35:12.859000'))"
       ]
      }
     ],
     "prompt_number": 7
    },
    {
     "cell_type": "code",
     "collapsed": false,
     "input": [
      "test[\"timestamp\"].min(), test[\"timestamp\"].max()"
     ],
     "language": "python",
     "metadata": {},
     "outputs": [
      {
       "metadata": {},
       "output_type": "pyout",
       "prompt_number": 8,
       "text": [
        "(Timestamp('2014-04-01 03:00:08.250000'),\n",
        " Timestamp('2014-09-30 02:59:23.866000'))"
       ]
      }
     ],
     "prompt_number": 8
    },
    {
     "cell_type": "code",
     "collapsed": false,
     "input": [
      "# Test size percentage\n",
      "test.shape[0]/float(clicks.shape[0])"
     ],
     "language": "python",
     "metadata": {},
     "outputs": [
      {
       "metadata": {},
       "output_type": "pyout",
       "prompt_number": 9,
       "text": [
        "0.25002439102429697"
       ]
      }
     ],
     "prompt_number": 9
    },
    {
     "cell_type": "heading",
     "level": 3,
     "metadata": {},
     "source": [
      "Basic statistics"
     ]
    },
    {
     "cell_type": "code",
     "collapsed": false,
     "input": [
      "# Number of clicks\n",
      "clicks.shape[0]"
     ],
     "language": "python",
     "metadata": {},
     "outputs": [
      {
       "metadata": {},
       "output_type": "pyout",
       "prompt_number": 10,
       "text": [
        "33003944"
       ]
      }
     ],
     "prompt_number": 10
    },
    {
     "cell_type": "code",
     "collapsed": false,
     "input": [
      "# Number of items bought\n",
      "buys.shape[0]"
     ],
     "language": "python",
     "metadata": {},
     "outputs": [
      {
       "metadata": {},
       "output_type": "pyout",
       "prompt_number": 11,
       "text": [
        "1150753"
       ]
      }
     ],
     "prompt_number": 11
    },
    {
     "cell_type": "code",
     "collapsed": false,
     "input": [
      "# Number of unique sessions\n",
      "clicks[\"session\"].unique().size"
     ],
     "language": "python",
     "metadata": {},
     "outputs": [
      {
       "metadata": {},
       "output_type": "pyout",
       "prompt_number": 12,
       "text": [
        "9249729"
       ]
      }
     ],
     "prompt_number": 12
    },
    {
     "cell_type": "code",
     "collapsed": false,
     "input": [
      "# Number of sessions with buys\n",
      "buys[\"session\"].unique().size"
     ],
     "language": "python",
     "metadata": {},
     "outputs": [
      {
       "metadata": {},
       "output_type": "pyout",
       "prompt_number": 13,
       "text": [
        "509696"
       ]
      }
     ],
     "prompt_number": 13
    },
    {
     "cell_type": "code",
     "collapsed": false,
     "input": [
      "# Percentage of sessions with buys\n",
      "buys[\"session\"].unique().size / float(clicks[\"session\"].unique().size)"
     ],
     "language": "python",
     "metadata": {},
     "outputs": [
      {
       "metadata": {},
       "output_type": "pyout",
       "prompt_number": 14,
       "text": [
        "0.05510388466516154"
       ]
      }
     ],
     "prompt_number": 14
    },
    {
     "cell_type": "code",
     "collapsed": false,
     "input": [
      "# Number of unique items\n",
      "clicks[\"item\"].unique().size"
     ],
     "language": "python",
     "metadata": {},
     "outputs": [
      {
       "metadata": {},
       "output_type": "pyout",
       "prompt_number": 15,
       "text": [
        "52739"
       ]
      }
     ],
     "prompt_number": 15
    },
    {
     "cell_type": "code",
     "collapsed": false,
     "input": [
      "# Number of unique items bought\n",
      "buys[\"item\"].unique().size"
     ],
     "language": "python",
     "metadata": {},
     "outputs": [
      {
       "metadata": {},
       "output_type": "pyout",
       "prompt_number": 16,
       "text": [
        "19949"
       ]
      }
     ],
     "prompt_number": 16
    },
    {
     "cell_type": "code",
     "collapsed": false,
     "input": [
      "# Number of categories\n",
      "clicks[\"category\"].unique().size"
     ],
     "language": "python",
     "metadata": {},
     "outputs": [
      {
       "metadata": {},
       "output_type": "pyout",
       "prompt_number": 17,
       "text": [
        "339"
       ]
      }
     ],
     "prompt_number": 17
    },
    {
     "cell_type": "code",
     "collapsed": false,
     "input": [
      "# Avg. number of categories per item\n",
      "clicks.groupby([\"item\",\"category\"]).count()[\"session\"].size / float(buys[\"item\"].unique().size)"
     ],
     "language": "python",
     "metadata": {},
     "outputs": [
      {
       "metadata": {},
       "output_type": "pyout",
       "prompt_number": 18,
       "text": [
        "5.018296656474009"
       ]
      }
     ],
     "prompt_number": 18
    },
    {
     "cell_type": "code",
     "collapsed": false,
     "input": [
      "# Items bought per session (only sessions with items bought)\n",
      "buys[[\"session\",\"item\"]].groupby(\"session\").count().describe()"
     ],
     "language": "python",
     "metadata": {},
     "outputs": [
      {
       "html": [
        "<div style=\"max-height:1000px;max-width:1500px;overflow:auto;\">\n",
        "<table border=\"1\" class=\"dataframe\">\n",
        "  <thead>\n",
        "    <tr style=\"text-align: right;\">\n",
        "      <th></th>\n",
        "      <th>item</th>\n",
        "    </tr>\n",
        "  </thead>\n",
        "  <tbody>\n",
        "    <tr>\n",
        "      <th>count</th>\n",
        "      <td> 509696.000000</td>\n",
        "    </tr>\n",
        "    <tr>\n",
        "      <th>mean</th>\n",
        "      <td>      2.257724</td>\n",
        "    </tr>\n",
        "    <tr>\n",
        "      <th>std</th>\n",
        "      <td>      1.933342</td>\n",
        "    </tr>\n",
        "    <tr>\n",
        "      <th>min</th>\n",
        "      <td>      1.000000</td>\n",
        "    </tr>\n",
        "    <tr>\n",
        "      <th>25%</th>\n",
        "      <td>      1.000000</td>\n",
        "    </tr>\n",
        "    <tr>\n",
        "      <th>50%</th>\n",
        "      <td>      2.000000</td>\n",
        "    </tr>\n",
        "    <tr>\n",
        "      <th>75%</th>\n",
        "      <td>      3.000000</td>\n",
        "    </tr>\n",
        "    <tr>\n",
        "      <th>max</th>\n",
        "      <td>    144.000000</td>\n",
        "    </tr>\n",
        "  </tbody>\n",
        "</table>\n",
        "</div>"
       ],
       "metadata": {},
       "output_type": "pyout",
       "prompt_number": 19,
       "text": [
        "                item\n",
        "count  509696.000000\n",
        "mean        2.257724\n",
        "std         1.933342\n",
        "min         1.000000\n",
        "25%         1.000000\n",
        "50%         2.000000\n",
        "75%         3.000000\n",
        "max       144.000000"
       ]
      }
     ],
     "prompt_number": 19
    },
    {
     "cell_type": "code",
     "collapsed": false,
     "input": [
      "# Clicks per session\n",
      "clicks[[\"session\",\"item\"]].groupby(\"session\").count().describe()"
     ],
     "language": "python",
     "metadata": {},
     "outputs": [
      {
       "html": [
        "<div style=\"max-height:1000px;max-width:1500px;overflow:auto;\">\n",
        "<table border=\"1\" class=\"dataframe\">\n",
        "  <thead>\n",
        "    <tr style=\"text-align: right;\">\n",
        "      <th></th>\n",
        "      <th>item</th>\n",
        "    </tr>\n",
        "  </thead>\n",
        "  <tbody>\n",
        "    <tr>\n",
        "      <th>count</th>\n",
        "      <td> 9249729.000000</td>\n",
        "    </tr>\n",
        "    <tr>\n",
        "      <th>mean</th>\n",
        "      <td>       3.568098</td>\n",
        "    </tr>\n",
        "    <tr>\n",
        "      <th>std</th>\n",
        "      <td>       3.787520</td>\n",
        "    </tr>\n",
        "    <tr>\n",
        "      <th>min</th>\n",
        "      <td>       1.000000</td>\n",
        "    </tr>\n",
        "    <tr>\n",
        "      <th>25%</th>\n",
        "      <td>       2.000000</td>\n",
        "    </tr>\n",
        "    <tr>\n",
        "      <th>50%</th>\n",
        "      <td>       2.000000</td>\n",
        "    </tr>\n",
        "    <tr>\n",
        "      <th>75%</th>\n",
        "      <td>       4.000000</td>\n",
        "    </tr>\n",
        "    <tr>\n",
        "      <th>max</th>\n",
        "      <td>     200.000000</td>\n",
        "    </tr>\n",
        "  </tbody>\n",
        "</table>\n",
        "</div>"
       ],
       "metadata": {},
       "output_type": "pyout",
       "prompt_number": 20,
       "text": [
        "                 item\n",
        "count  9249729.000000\n",
        "mean         3.568098\n",
        "std          3.787520\n",
        "min          1.000000\n",
        "25%          2.000000\n",
        "50%          2.000000\n",
        "75%          4.000000\n",
        "max        200.000000"
       ]
      }
     ],
     "prompt_number": 20
    },
    {
     "cell_type": "code",
     "collapsed": false,
     "input": [
      "# Session duration\n",
      "timestamp_by_session = clicks[[\"session\", \"timestamp\"]].groupby(\"session\")\n",
      "mints = timestamp_by_session.min()\n",
      "maxts = timestamp_by_session.max()\n",
      "duration = maxts - mints\n",
      "duration.describe()"
     ],
     "language": "python",
     "metadata": {},
     "outputs": [
      {
       "html": [
        "<div style=\"max-height:1000px;max-width:1500px;overflow:auto;\">\n",
        "<table border=\"1\" class=\"dataframe\">\n",
        "  <thead>\n",
        "    <tr style=\"text-align: right;\">\n",
        "      <th></th>\n",
        "      <th>timestamp</th>\n",
        "    </tr>\n",
        "  </thead>\n",
        "  <tbody>\n",
        "    <tr>\n",
        "      <th>count</th>\n",
        "      <td>                9249729</td>\n",
        "    </tr>\n",
        "    <tr>\n",
        "      <th>mean</th>\n",
        "      <td> 0 days 00:06:21.633378</td>\n",
        "    </tr>\n",
        "    <tr>\n",
        "      <th>std</th>\n",
        "      <td> 0 days 00:12:36.645009</td>\n",
        "    </tr>\n",
        "    <tr>\n",
        "      <th>min</th>\n",
        "      <td>        0 days 00:00:00</td>\n",
        "    </tr>\n",
        "    <tr>\n",
        "      <th>25%</th>\n",
        "      <td> 0 days 00:00:32.214000</td>\n",
        "    </tr>\n",
        "    <tr>\n",
        "      <th>50%</th>\n",
        "      <td> 0 days 00:02:07.939000</td>\n",
        "    </tr>\n",
        "    <tr>\n",
        "      <th>75%</th>\n",
        "      <td> 0 days 00:06:24.132000</td>\n",
        "    </tr>\n",
        "    <tr>\n",
        "      <th>max</th>\n",
        "      <td> 2 days 20:18:57.996000</td>\n",
        "    </tr>\n",
        "  </tbody>\n",
        "</table>\n",
        "</div>"
       ],
       "metadata": {},
       "output_type": "pyout",
       "prompt_number": 21,
       "text": [
        "                    timestamp\n",
        "count                 9249729\n",
        "mean   0 days 00:06:21.633378\n",
        "std    0 days 00:12:36.645009\n",
        "min           0 days 00:00:00\n",
        "25%    0 days 00:00:32.214000\n",
        "50%    0 days 00:02:07.939000\n",
        "75%    0 days 00:06:24.132000\n",
        "max    2 days 20:18:57.996000"
       ]
      }
     ],
     "prompt_number": 21
    },
    {
     "cell_type": "heading",
     "level": 2,
     "metadata": {},
     "source": [
      "Clicks x Buys"
     ]
    },
    {
     "cell_type": "code",
     "collapsed": false,
     "input": [
      "session_item_buys = buys[[\"session\", \"item\", \"qty\"]].groupby([\"session\", \"item\"]).sum()\n",
      "session_item_buys = session_item_buys[\"qty\"]\n",
      "session_item_buys = session_item_buys.to_frame(\"bought\")"
     ],
     "language": "python",
     "metadata": {},
     "outputs": []
    },
    {
     "cell_type": "code",
     "collapsed": false,
     "input": [
      "session_item_clicks = clicks[[\"session\", \"item\", \"timestamp\"]].groupby([\"session\", \"item\"]).count()\n",
      "session_item_clicks = session_item_clicks[\"timestamp\"]\n",
      "session_item_clicks = session_item_clicks.to_frame(name=\"clicks\")"
     ],
     "language": "python",
     "metadata": {},
     "outputs": []
    },
    {
     "cell_type": "code",
     "collapsed": false,
     "input": [
      "session_items = pd.merge(session_item_clicks, session_item_buys, how='outer', left_index=True, right_index=True)\n",
      "session_items.fillna(0, inplace=True)\n",
      "session_items[:5]"
     ],
     "language": "python",
     "metadata": {},
     "outputs": [
      {
       "html": [
        "<div style=\"max-height:1000px;max-width:1500px;overflow:auto;\">\n",
        "<table border=\"1\" class=\"dataframe\">\n",
        "  <thead>\n",
        "    <tr style=\"text-align: right;\">\n",
        "      <th></th>\n",
        "      <th></th>\n",
        "      <th>clicks</th>\n",
        "      <th>bought</th>\n",
        "    </tr>\n",
        "    <tr>\n",
        "      <th>session</th>\n",
        "      <th>item</th>\n",
        "      <th></th>\n",
        "      <th></th>\n",
        "    </tr>\n",
        "  </thead>\n",
        "  <tbody>\n",
        "    <tr>\n",
        "      <th rowspan=\"4\" valign=\"top\">1</th>\n",
        "      <th>214536500</th>\n",
        "      <td> 1</td>\n",
        "      <td> 0</td>\n",
        "    </tr>\n",
        "    <tr>\n",
        "      <th>214536502</th>\n",
        "      <td> 1</td>\n",
        "      <td> 0</td>\n",
        "    </tr>\n",
        "    <tr>\n",
        "      <th>214536506</th>\n",
        "      <td> 1</td>\n",
        "      <td> 0</td>\n",
        "    </tr>\n",
        "    <tr>\n",
        "      <th>214577561</th>\n",
        "      <td> 1</td>\n",
        "      <td> 0</td>\n",
        "    </tr>\n",
        "    <tr>\n",
        "      <th>2</th>\n",
        "      <th>214551617</th>\n",
        "      <td> 1</td>\n",
        "      <td> 0</td>\n",
        "    </tr>\n",
        "  </tbody>\n",
        "</table>\n",
        "</div>"
       ],
       "metadata": {},
       "output_type": "pyout",
       "prompt_number": 68,
       "text": [
        "                   clicks  bought\n",
        "session item                     \n",
        "1       214536500       1       0\n",
        "        214536502       1       0\n",
        "        214536506       1       0\n",
        "        214577561       1       0\n",
        "2       214551617       1       0"
       ]
      }
     ],
     "prompt_number": 68
    },
    {
     "cell_type": "code",
     "collapsed": false,
     "input": [
      "# All items bought had at least one click?\n",
      "session_items[session_items[\"clicks\"] == 0].count()"
     ],
     "language": "python",
     "metadata": {},
     "outputs": [
      {
       "metadata": {},
       "output_type": "pyout",
       "prompt_number": 78,
       "text": [
        "clicks    0\n",
        "bought    0\n",
        "dtype: int64"
       ]
      }
     ],
     "prompt_number": 78
    },
    {
     "cell_type": "code",
     "collapsed": false,
     "input": [
      "session_items.describe()"
     ],
     "language": "python",
     "metadata": {},
     "outputs": [
      {
       "html": [
        "<div style=\"max-height:1000px;max-width:1500px;overflow:auto;\">\n",
        "<table border=\"1\" class=\"dataframe\">\n",
        "  <thead>\n",
        "    <tr style=\"text-align: right;\">\n",
        "      <th></th>\n",
        "      <th>clicks</th>\n",
        "      <th>bought</th>\n",
        "    </tr>\n",
        "  </thead>\n",
        "  <tbody>\n",
        "    <tr>\n",
        "      <th>count</th>\n",
        "      <td> 26615576.000000</td>\n",
        "      <td> 26615576.000000</td>\n",
        "    </tr>\n",
        "    <tr>\n",
        "      <th>mean</th>\n",
        "      <td>        1.240024</td>\n",
        "      <td>        0.027934</td>\n",
        "    </tr>\n",
        "    <tr>\n",
        "      <th>std</th>\n",
        "      <td>        0.661383</td>\n",
        "      <td>        0.310070</td>\n",
        "    </tr>\n",
        "    <tr>\n",
        "      <th>min</th>\n",
        "      <td>        1.000000</td>\n",
        "      <td>        0.000000</td>\n",
        "    </tr>\n",
        "    <tr>\n",
        "      <th>25%</th>\n",
        "      <td>        1.000000</td>\n",
        "      <td>        0.000000</td>\n",
        "    </tr>\n",
        "    <tr>\n",
        "      <th>50%</th>\n",
        "      <td>        1.000000</td>\n",
        "      <td>        0.000000</td>\n",
        "    </tr>\n",
        "    <tr>\n",
        "      <th>75%</th>\n",
        "      <td>        1.000000</td>\n",
        "      <td>        0.000000</td>\n",
        "    </tr>\n",
        "    <tr>\n",
        "      <th>max</th>\n",
        "      <td>      200.000000</td>\n",
        "      <td>      140.000000</td>\n",
        "    </tr>\n",
        "  </tbody>\n",
        "</table>\n",
        "</div>"
       ],
       "metadata": {},
       "output_type": "pyout",
       "prompt_number": 86,
       "text": [
        "                clicks           bought\n",
        "count  26615576.000000  26615576.000000\n",
        "mean          1.240024         0.027934\n",
        "std           0.661383         0.310070\n",
        "min           1.000000         0.000000\n",
        "25%           1.000000         0.000000\n",
        "50%           1.000000         0.000000\n",
        "75%           1.000000         0.000000\n",
        "max         200.000000       140.000000"
       ]
      }
     ],
     "prompt_number": 86
    },
    {
     "cell_type": "code",
     "collapsed": false,
     "input": [
      "# More clicks result on more buys?\n",
      "session_items[\"clicks\"].corr(session_items[\"bought\"])"
     ],
     "language": "python",
     "metadata": {},
     "outputs": [
      {
       "metadata": {},
       "output_type": "pyout",
       "prompt_number": 87,
       "text": [
        "0.10215779997440043"
       ]
      }
     ],
     "prompt_number": 87
    },
    {
     "cell_type": "heading",
     "level": 2,
     "metadata": {},
     "source": [
      "Plots"
     ]
    },
    {
     "cell_type": "code",
     "collapsed": false,
     "input": [
      "# some display options to make figures bigger\n",
      "pd.set_option('display.max_columns', 15)\n",
      "pd.set_option('display.width', 400)\n",
      "pd.set_option('display.mpl_style', 'default')\n",
      "rcParams['figure.figsize'] = (14, 7)\n",
      "import matplotlib\n",
      "font = {'family' : 'Helvetica',\n",
      "        'weight' : 'bold',\n",
      "        'size'   : 22}\n",
      "\n",
      "matplotlib.rc('font', **font)"
     ],
     "language": "python",
     "metadata": {},
     "outputs": [],
     "prompt_number": 88
    },
    {
     "cell_type": "code",
     "collapsed": false,
     "input": [
      "#Buys and clicks per day\n",
      "buys_grouped_dates = buys[\"timestamp\"].groupby(buys[\"timestamp\"].apply(lambda x : x.date()))\n",
      "buys_by_date = buys_grouped_dates.count()\n",
      "buys_by_date = buys_by_date.to_frame(name=\"buys\")\n",
      "\n",
      "clicks_grouped_dates = clicks[\"timestamp\"].groupby(clicks[\"timestamp\"].apply(lambda x : x.date()))\n",
      "clicks_by_date = clicks_grouped_dates.count()\n",
      "clicks_by_date = clicks_by_date.to_frame(name=\"clicks\")\n",
      "\n",
      "buys_and_click_by_date = pd.merge(buys_by_date, clicks_by_date, how='outer', left_index=True, right_index=True)\n",
      "buys_and_click_by_date.fillna(0, inplace=True)\n",
      "\n",
      "buys_and_click_by_date.plot()"
     ],
     "language": "python",
     "metadata": {},
     "outputs": [
      {
       "metadata": {},
       "output_type": "pyout",
       "prompt_number": 94,
       "text": [
        "<matplotlib.axes.AxesSubplot at 0x58b4e43d0>"
       ]
      },
      {
       "metadata": {},
       "output_type": "display_data",
       "png": "[encoded data removed]",
       "text": [
        "<matplotlib.figure.Figure at 0x2673042d0>"
       ]
      }
     ],
     "prompt_number": 94
    }
   ],
   "metadata": {}
  }
 ]
}